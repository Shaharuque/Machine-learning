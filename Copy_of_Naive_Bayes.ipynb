{
  "nbformat": 4,
  "nbformat_minor": 0,
  "metadata": {
    "colab": {
      "name": "Copy of Naive Bayes.ipynb",
      "provenance": [],
      "collapsed_sections": [],
      "include_colab_link": true
    },
    "kernelspec": {
      "display_name": "Python 3",
      "name": "python3"
    }
  },
  "cells": [
    {
      "cell_type": "markdown",
      "metadata": {
        "id": "view-in-github",
        "colab_type": "text"
      },
      "source": [
        "<a href=\"https://colab.research.google.com/github/devshaik444/Machine-learning/blob/master/Copy_of_Naive_Bayes.ipynb\" target=\"_parent\"><img src=\"https://colab.research.google.com/assets/colab-badge.svg\" alt=\"Open In Colab\"/></a>"
      ]
    },
    {
      "cell_type": "code",
      "metadata": {
        "id": "W_voG64ej692"
      },
      "source": [
        "from google.colab import drive\n",
        "drive.mount('/content/gdrive')"
      ],
      "execution_count": null,
      "outputs": []
    },
    {
      "cell_type": "code",
      "metadata": {
        "id": "riDVq8V8kWy-"
      },
      "source": [
        "import pandas as pd\n",
        "\n",
        "#dataframe\n",
        "data = pd.read_csv('/content/gdrive/MyDrive/Dataset/kr-vs-kp.csv')\n",
        "\n",
        "print(data.columns)"
      ],
      "execution_count": null,
      "outputs": []
    },
    {
      "cell_type": "code",
      "metadata": {
        "id": "VxKsJ6FBl3gj"
      },
      "source": [
        "from sklearn.model_selection import train_test_split\n",
        "\n",
        "data_x =  data.loc[:, data.columns != 'label']\n",
        "data_y = data['label']\n",
        "\n",
        "\n",
        "train_x, test_x, train_y, test_y = train_test_split(data_x, data_y, train_size=0.75, stratify=data_y)\n",
        "\n",
        "print(train_x.shape)\n",
        "print(test_x.shape)\n",
        "\n",
        "print(train_y.shape)\n",
        "print(test_y.shape)"
      ],
      "execution_count": null,
      "outputs": []
    },
    {
      "cell_type": "code",
      "metadata": {
        "id": "NtJaSA2kBt2J"
      },
      "source": [
        "print(train_x)\n",
        "print(train_y)"
      ],
      "execution_count": null,
      "outputs": []
    },
    {
      "cell_type": "code",
      "metadata": {
        "id": "pGt8kTeImSFe"
      },
      "source": [
        "print(data_x)\n",
        "print(data_y)"
      ],
      "execution_count": null,
      "outputs": []
    },
    {
      "cell_type": "code",
      "metadata": {
        "id": "AxxQnbf2Rptt"
      },
      "source": [
        "pre1 = 0.6666666666666666\n",
        "rec1 = 0.5925925925925926\n",
        "f11 = 0.627450980392157"
      ],
      "execution_count": null,
      "outputs": []
    },
    {
      "cell_type": "code",
      "metadata": {
        "id": "NAwJa8PCoJXM"
      },
      "source": [
        "#Implementation the fit function one\n",
        "count1 = 0\n",
        "count2 = 0\n",
        "for i in data_y:\n",
        "  if i == 'won':\n",
        "    count1 = count1 + 1\n",
        "  else:\n",
        "    count2 = count2 + 1\n",
        "\n",
        "won = count1/len(data_y)\n",
        "nowin = count2/len(data_y)\n",
        "print(count1, count2)\n",
        "print(won, nowin)\n",
        "x = won + nowin\n",
        "print(x)"
      ],
      "execution_count": null,
      "outputs": []
    },
    {
      "cell_type": "code",
      "metadata": {
        "id": "mQbg7SiCDTWI"
      },
      "source": [
        "#Implementation the fit function two\n",
        "\n",
        "def fit_function(data, arr):\n",
        "  #arr = []\n",
        "  flag = 0\n",
        "  temp = 0\n",
        "  for d in data:\n",
        "    if d != 'label':\n",
        "      arr.append({})\n",
        "      X = data.groupby([d, 'label'], as_index=False)['label'].count()\n",
        "      mylist = list(dict.fromkeys(X[d]))\n",
        "      for j in mylist:\n",
        "        arr[flag][j] = []\n",
        "        for i in range(2):\n",
        "          try:\n",
        "            #print(f\"look=={temp}, {X['label'][temp]}\")\n",
        "            if temp <= 1:\n",
        "              arr[flag][j].append(X['label'][temp]/count1)\n",
        "            else:\n",
        "              arr[flag][j].append(X['label'][temp]/count2)\n",
        "            temp = temp + 1\n",
        "          except:\n",
        "            pass\n",
        "      temp = 0\n",
        "      flag = flag + 1\n",
        "    \n",
        "\n",
        "\n",
        "  for ar in arr:\n",
        "    print(ar)\n",
        "\n"
      ],
      "execution_count": null,
      "outputs": []
    },
    {
      "cell_type": "code",
      "metadata": {
        "id": "bn6_MIH7l0x4"
      },
      "source": [
        "#Implement the predict function\n",
        "def predict_function(data, classify):\n",
        "  arr1 = []\n",
        "  arr2 = []\n",
        "  temp1 = 1\n",
        "  temp2 = 1\n",
        "  clock = 0\n",
        "  for i in range(len(data)):\n",
        "    temp = data.iloc[i]\n",
        "    for j in temp[0:-1]:\n",
        "      try:\n",
        "        temp1 = temp1 * arr[clock][j][0]\n",
        "        temp2 = temp2 * arr[clock][j][1]\n",
        "      except:\n",
        "        temp1 = temp1 * arr[clock][j][0]\n",
        "        temp2 = temp2 * 1\n",
        "      clock = clock + 1\n",
        "    arr1.append(temp1*won)\n",
        "    arr2.append(temp2*nowin)\n",
        "    temp1 = 1\n",
        "    temp2 = 1\n",
        "    clock = 0\n",
        "    #print(arr1)\n",
        "    #print(arr2)\n",
        "\n",
        "    #print(len(arr2))\n",
        "    #print(len(arr1))\n",
        "\n",
        "  for i in range(len(arr1)):\n",
        "    if arr1[i] > arr2[i]:\n",
        "      classify.append('won')\n",
        "    else:\n",
        "      classify.append('nowin')\n",
        "\n"
      ],
      "execution_count": null,
      "outputs": []
    },
    {
      "cell_type": "code",
      "metadata": {
        "id": "Uc1w61HFEII_"
      },
      "source": [
        "arr = []\n",
        "fit_function(data, arr)"
      ],
      "execution_count": null,
      "outputs": []
    },
    {
      "cell_type": "code",
      "metadata": {
        "id": "RB-GYOLFJpAA"
      },
      "source": [
        "classify = []\n",
        "print(len(classify))\n",
        "predict_function(test_x, classify)"
      ],
      "execution_count": null,
      "outputs": []
    },
    {
      "cell_type": "code",
      "metadata": {
        "id": "MJLxhsUoKc43"
      },
      "source": [
        "print(len(classify))\n",
        "print(classify)\n",
        "test_y = test_y.tolist()"
      ],
      "execution_count": null,
      "outputs": []
    },
    {
      "cell_type": "code",
      "metadata": {
        "id": "sJ7USy2wLnnO"
      },
      "source": [
        "from sklearn.metrics import accuracy_score, precision_score, recall_score, f1_score\n",
        "acc1 = accuracy_score(test_y, classify)\n",
        "rec1 = recall_score(test_y, classify)\n",
        "pre1 = precision_score(test_y, classify)\n",
        "f11 = f1_score(test_y, classify)\n",
        "print(acc1, pre1, rec1, f11)\n"
      ],
      "execution_count": null,
      "outputs": []
    }
  ]
}